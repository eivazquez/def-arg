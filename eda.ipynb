{
 "cells": [
  {
   "cell_type": "markdown",
   "id": "39119726",
   "metadata": {},
   "source": [
    "#  ![images-2-2.png](data:image/png;base64,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)   **Universidad de la ciudad de Buenos Aires**\n",
    "\n",
    "---"
   ]
  },
  {
   "cell_type": "markdown",
   "id": "d15f8dc2",
   "metadata": {},
   "source": [
    "# TRABAJO PRÁCTICO - Segundo Módulo: Programación Avanzada en Ciencia de Datos\n",
    "\n",
    "## Enrique Ignacio Vazquez\n",
    "\n",
    "### Desarrollo de un dashboard interactivo para el análisis  sobre Defunciones Generales Mensuales desde 2015 al 2021. \n",
    "\n",
    "### Procedimiento\n",
    "####  1. Se realizará una exploración, validación y limpieza de la fuente de datos. Se quitarán columnas redundantes y se anexaran la siguientes tablas:\n",
    "- Clasificación de enfermedades códigos CIE10.\n",
    "- Agrupador de clasificación de enfermedas CIE10.\n",
    "\n",
    "#### 2. Se migraran los datos a DuckDb fuente de datos del Dashboard"
   ]
  },
  {
   "cell_type": "markdown",
   "id": "700c33d4",
   "metadata": {},
   "source": [
    "### Preparación de datos"
   ]
  },
  {
   "cell_type": "code",
   "execution_count": 6,
   "id": "616094a9",
   "metadata": {},
   "outputs": [],
   "source": [
    "import pandas as pd"
   ]
  },
  {
   "cell_type": "code",
   "execution_count": 7,
   "id": "7c75d0c2",
   "metadata": {},
   "outputs": [
    {
     "name": "stdout",
     "output_type": "stream",
     "text": [
      "<class 'pandas.core.frame.DataFrame'>\n",
      "RangeIndex: 760859 entries, 0 to 760858\n",
      "Data columns (total 11 columns):\n",
      " #   Column                       Non-Null Count   Dtype \n",
      "---  ------                       --------------   ----- \n",
      " 0   region                       760859 non-null  object\n",
      " 1   jurisdiccion                 760859 non-null  object\n",
      " 2   mes_anio_defuncion           760859 non-null  object\n",
      " 3   mes_def                      760859 non-null  int64 \n",
      " 4   anio_def                     760859 non-null  int64 \n",
      " 5   sexo_id                      760859 non-null  int64 \n",
      " 6   sexo_nombre                  760859 non-null  object\n",
      " 7   grupo_etario                 760859 non-null  object\n",
      " 8   grupo_causa_defuncion_CIE10  760859 non-null  object\n",
      " 9   cod_causa_muerte_CIE10       760859 non-null  object\n",
      " 10  cantidad                     760859 non-null  int64 \n",
      "dtypes: int64(4), object(7)\n",
      "memory usage: 63.9+ MB\n"
     ]
    }
   ],
   "source": [
    "df = pd.read_csv('data/arg_def_m_20_22.csv')\n",
    "df.info()"
   ]
  },
  {
   "cell_type": "markdown",
   "id": "203982e8",
   "metadata": {},
   "source": [
    "#### Analisis de valores sobre sexo, mes y año para determinar inconsistencias"
   ]
  },
  {
   "cell_type": "code",
   "execution_count": 8,
   "id": "e272ad56",
   "metadata": {},
   "outputs": [
    {
     "name": "stdout",
     "output_type": "stream",
     "text": [
      "codigos_unicosSexos distintos : ['masculino' 'femenino' 'indeterminado' 'desconocido']\n",
      "codigos_unicosAños distintos : [2021 2020 2022]\n",
      "¿Existen meses con valores inválidos?: False\n",
      "¿Existen años con valores inválidos?: False\n"
     ]
    }
   ],
   "source": [
    "print(f\"codigos_unicosSexos distintos : {df['sexo_nombre'].unique()}\")\n",
    "print(f\"codigos_unicosAños distintos : {df['anio_def'].unique()}\")\n",
    "#Verificamos si hay meses con valores inválidos (menores a 1 o mayores a 12)\n",
    "condicion_invalida = (df['mes_def'] < 1) | (df['mes_def'] > 12)\n",
    "existen_valores_invalidos = condicion_invalida.any()\n",
    "print(f\"¿Existen meses con valores inválidos?: {existen_valores_invalidos}\")\n",
    "\n",
    "#Verificamos si hay años con valores inválidos mayores a 20225\n",
    "condicion_invalida_anio = (df['anio_def'] >2025)\n",
    "existen_valores_invalidos_anio = condicion_invalida_anio.any()\n",
    "print(f\"¿Existen años con valores inválidos?: {existen_valores_invalidos_anio}\")"
   ]
  },
  {
   "cell_type": "markdown",
   "id": "ea5b7f51",
   "metadata": {},
   "source": [
    "#### Quitamos columnas redundantes o consideradas sin ultilidad"
   ]
  },
  {
   "cell_type": "code",
   "execution_count": 9,
   "id": "57b53374",
   "metadata": {},
   "outputs": [
    {
     "data": {
      "text/html": [
       "<div>\n",
       "<style scoped>\n",
       "    .dataframe tbody tr th:only-of-type {\n",
       "        vertical-align: middle;\n",
       "    }\n",
       "\n",
       "    .dataframe tbody tr th {\n",
       "        vertical-align: top;\n",
       "    }\n",
       "\n",
       "    .dataframe thead th {\n",
       "        text-align: right;\n",
       "    }\n",
       "</style>\n",
       "<table border=\"1\" class=\"dataframe\">\n",
       "  <thead>\n",
       "    <tr style=\"text-align: right;\">\n",
       "      <th></th>\n",
       "      <th>region</th>\n",
       "      <th>jurisdiccion</th>\n",
       "      <th>mes_def</th>\n",
       "      <th>anio_def</th>\n",
       "      <th>sexo_nombre</th>\n",
       "      <th>grupo_etario</th>\n",
       "      <th>cod_causa_muerte_CIE10</th>\n",
       "      <th>cantidad</th>\n",
       "    </tr>\n",
       "  </thead>\n",
       "  <tbody>\n",
       "    <tr>\n",
       "      <th>0</th>\n",
       "      <td>7.Cuyo2.</td>\n",
       "      <td>99.no identificado.</td>\n",
       "      <td>4</td>\n",
       "      <td>2021</td>\n",
       "      <td>masculino</td>\n",
       "      <td>07. de 80 anios y mas</td>\n",
       "      <td>I11</td>\n",
       "      <td>1</td>\n",
       "    </tr>\n",
       "    <tr>\n",
       "      <th>1</th>\n",
       "      <td>7.Cuyo2.</td>\n",
       "      <td>99.no identificado.</td>\n",
       "      <td>3</td>\n",
       "      <td>2021</td>\n",
       "      <td>masculino</td>\n",
       "      <td>07. de 80 anios y mas</td>\n",
       "      <td>I11</td>\n",
       "      <td>1</td>\n",
       "    </tr>\n",
       "    <tr>\n",
       "      <th>2</th>\n",
       "      <td>7.Cuyo2.</td>\n",
       "      <td>99.no identificado.</td>\n",
       "      <td>6</td>\n",
       "      <td>2021</td>\n",
       "      <td>masculino</td>\n",
       "      <td>03.de 40 a 49 anios</td>\n",
       "      <td>I12</td>\n",
       "      <td>1</td>\n",
       "    </tr>\n",
       "    <tr>\n",
       "      <th>3</th>\n",
       "      <td>7.Cuyo2.</td>\n",
       "      <td>99.no identificado.</td>\n",
       "      <td>3</td>\n",
       "      <td>2021</td>\n",
       "      <td>masculino</td>\n",
       "      <td>07. de 80 anios y mas</td>\n",
       "      <td>I12</td>\n",
       "      <td>1</td>\n",
       "    </tr>\n",
       "    <tr>\n",
       "      <th>4</th>\n",
       "      <td>7.Cuyo2.</td>\n",
       "      <td>99.no identificado.</td>\n",
       "      <td>7</td>\n",
       "      <td>2021</td>\n",
       "      <td>masculino</td>\n",
       "      <td>07. de 80 anios y mas</td>\n",
       "      <td>I12</td>\n",
       "      <td>1</td>\n",
       "    </tr>\n",
       "  </tbody>\n",
       "</table>\n",
       "</div>"
      ],
      "text/plain": [
       "     region         jurisdiccion  mes_def  anio_def sexo_nombre  \\\n",
       "0  7.Cuyo2.  99.no identificado.        4      2021   masculino   \n",
       "1  7.Cuyo2.  99.no identificado.        3      2021   masculino   \n",
       "2  7.Cuyo2.  99.no identificado.        6      2021   masculino   \n",
       "3  7.Cuyo2.  99.no identificado.        3      2021   masculino   \n",
       "4  7.Cuyo2.  99.no identificado.        7      2021   masculino   \n",
       "\n",
       "            grupo_etario cod_causa_muerte_CIE10  cantidad  \n",
       "0  07. de 80 anios y mas                    I11         1  \n",
       "1  07. de 80 anios y mas                    I11         1  \n",
       "2    03.de 40 a 49 anios                    I12         1  \n",
       "3  07. de 80 anios y mas                    I12         1  \n",
       "4  07. de 80 anios y mas                    I12         1  "
      ]
     },
     "execution_count": 9,
     "metadata": {},
     "output_type": "execute_result"
    }
   ],
   "source": [
    "df.drop('grupo_causa_defuncion_CIE10', axis=1, inplace=True)\n",
    "df.drop('mes_anio_defuncion', axis=1, inplace=True)\n",
    "df.drop('sexo_id', axis=1, inplace=True)\n",
    "df.head()"
   ]
  },
  {
   "cell_type": "markdown",
   "id": "5bef34c8",
   "metadata": {},
   "source": [
    "\n",
    "#### Migración"
   ]
  },
  {
   "cell_type": "code",
   "execution_count": 10,
   "id": "97ab7419",
   "metadata": {},
   "outputs": [
    {
     "name": "stdout",
     "output_type": "stream",
     "text": [
      "<class 'pandas.core.frame.DataFrame'>\n",
      "RangeIndex: 2024 entries, 0 to 2023\n",
      "Data columns (total 3 columns):\n",
      " #   Column       Non-Null Count  Dtype \n",
      "---  ------       --------------  ----- \n",
      " 0   id           2024 non-null   object\n",
      " 1   descripcion  2024 non-null   object\n",
      " 2   grupo        2024 non-null   object\n",
      "dtypes: object(3)\n",
      "memory usage: 47.6+ KB\n"
     ]
    },
    {
     "data": {
      "text/html": [
       "<div>\n",
       "<style scoped>\n",
       "    .dataframe tbody tr th:only-of-type {\n",
       "        vertical-align: middle;\n",
       "    }\n",
       "\n",
       "    .dataframe tbody tr th {\n",
       "        vertical-align: top;\n",
       "    }\n",
       "\n",
       "    .dataframe thead th {\n",
       "        text-align: right;\n",
       "    }\n",
       "</style>\n",
       "<table border=\"1\" class=\"dataframe\">\n",
       "  <thead>\n",
       "    <tr style=\"text-align: right;\">\n",
       "      <th></th>\n",
       "      <th>id</th>\n",
       "      <th>descripcion</th>\n",
       "      <th>grupo</th>\n",
       "    </tr>\n",
       "  </thead>\n",
       "  <tbody>\n",
       "    <tr>\n",
       "      <th>0</th>\n",
       "      <td>A00</td>\n",
       "      <td>Cólera</td>\n",
       "      <td>A00-B99</td>\n",
       "    </tr>\n",
       "    <tr>\n",
       "      <th>1</th>\n",
       "      <td>A01</td>\n",
       "      <td>Fiebres tifoidea y paratifoidea</td>\n",
       "      <td>A00-B99</td>\n",
       "    </tr>\n",
       "    <tr>\n",
       "      <th>2</th>\n",
       "      <td>A02</td>\n",
       "      <td>Otras infecciones debidas a Salmonella</td>\n",
       "      <td>A00-B99</td>\n",
       "    </tr>\n",
       "    <tr>\n",
       "      <th>3</th>\n",
       "      <td>A03</td>\n",
       "      <td>Shigelosis</td>\n",
       "      <td>A00-B99</td>\n",
       "    </tr>\n",
       "    <tr>\n",
       "      <th>4</th>\n",
       "      <td>A04</td>\n",
       "      <td>Otras infecciones intestinales bacterianas</td>\n",
       "      <td>A00-B99</td>\n",
       "    </tr>\n",
       "  </tbody>\n",
       "</table>\n",
       "</div>"
      ],
      "text/plain": [
       "    id                                 descripcion    grupo\n",
       "0  A00                                      Cólera  A00-B99\n",
       "1  A01             Fiebres tifoidea y paratifoidea  A00-B99\n",
       "2  A02      Otras infecciones debidas a Salmonella  A00-B99\n",
       "3  A03                                  Shigelosis  A00-B99\n",
       "4  A04  Otras infecciones intestinales bacterianas  A00-B99"
      ]
     },
     "execution_count": 10,
     "metadata": {},
     "output_type": "execute_result"
    }
   ],
   "source": [
    "dfcie10 = pd.read_csv('data/Cie10.csv')\n",
    "dfcie10.info()\n",
    "dfcie10.head()\n"
   ]
  },
  {
   "cell_type": "code",
   "execution_count": 11,
   "id": "ce5d32ae",
   "metadata": {},
   "outputs": [
    {
     "name": "stdout",
     "output_type": "stream",
     "text": [
      "<class 'pandas.core.frame.DataFrame'>\n",
      "RangeIndex: 21 entries, 0 to 20\n",
      "Data columns (total 3 columns):\n",
      " #   Column       Non-Null Count  Dtype \n",
      "---  ------       --------------  ----- \n",
      " 0   id           21 non-null     object\n",
      " 1   descripcion  21 non-null     object\n",
      " 2   capitulo     21 non-null     object\n",
      "dtypes: object(3)\n",
      "memory usage: 636.0+ bytes\n"
     ]
    },
    {
     "data": {
      "text/html": [
       "<div>\n",
       "<style scoped>\n",
       "    .dataframe tbody tr th:only-of-type {\n",
       "        vertical-align: middle;\n",
       "    }\n",
       "\n",
       "    .dataframe tbody tr th {\n",
       "        vertical-align: top;\n",
       "    }\n",
       "\n",
       "    .dataframe thead th {\n",
       "        text-align: right;\n",
       "    }\n",
       "</style>\n",
       "<table border=\"1\" class=\"dataframe\">\n",
       "  <thead>\n",
       "    <tr style=\"text-align: right;\">\n",
       "      <th></th>\n",
       "      <th>id</th>\n",
       "      <th>descripcion</th>\n",
       "      <th>capitulo</th>\n",
       "    </tr>\n",
       "  </thead>\n",
       "  <tbody>\n",
       "    <tr>\n",
       "      <th>0</th>\n",
       "      <td>A00-B99</td>\n",
       "      <td>CIERTAS ENFERMEDADES INFECCIOSAS Y PARASITARIAS</td>\n",
       "      <td>CAPITULO I</td>\n",
       "    </tr>\n",
       "    <tr>\n",
       "      <th>1</th>\n",
       "      <td>C00-D48</td>\n",
       "      <td>TUMORES (NEOPLASIAS)</td>\n",
       "      <td>CAPITULO II</td>\n",
       "    </tr>\n",
       "    <tr>\n",
       "      <th>2</th>\n",
       "      <td>D50-D89</td>\n",
       "      <td>ENFERMEDADES DE LA SANGRE Y DE LOS ÓRGANOS HEM...</td>\n",
       "      <td>CAPITULO III</td>\n",
       "    </tr>\n",
       "    <tr>\n",
       "      <th>3</th>\n",
       "      <td>E00-E90</td>\n",
       "      <td>ENFERMEDADES ENDOCRINAS, NUTRICIONALES Y METAB...</td>\n",
       "      <td>CAPITULO IV</td>\n",
       "    </tr>\n",
       "    <tr>\n",
       "      <th>4</th>\n",
       "      <td>F00-F99</td>\n",
       "      <td>TRASTORNOS MENTALES Y DEL COMPORTAMIENTO</td>\n",
       "      <td>CAPITULO V</td>\n",
       "    </tr>\n",
       "  </tbody>\n",
       "</table>\n",
       "</div>"
      ],
      "text/plain": [
       "        id                                        descripcion      capitulo\n",
       "0  A00-B99    CIERTAS ENFERMEDADES INFECCIOSAS Y PARASITARIAS    CAPITULO I\n",
       "1  C00-D48                               TUMORES (NEOPLASIAS)   CAPITULO II\n",
       "2  D50-D89  ENFERMEDADES DE LA SANGRE Y DE LOS ÓRGANOS HEM...  CAPITULO III\n",
       "3  E00-E90  ENFERMEDADES ENDOCRINAS, NUTRICIONALES Y METAB...   CAPITULO IV\n",
       "4  F00-F99           TRASTORNOS MENTALES Y DEL COMPORTAMIENTO    CAPITULO V"
      ]
     },
     "execution_count": 11,
     "metadata": {},
     "output_type": "execute_result"
    }
   ],
   "source": [
    "dfcie10grupo = pd.read_csv('data/Cie10Grupos.csv')\n",
    "dfcie10grupo.info()\n",
    "dfcie10grupo.head()"
   ]
  },
  {
   "cell_type": "code",
   "execution_count": 12,
   "id": "54922bee",
   "metadata": {},
   "outputs": [
    {
     "name": "stdout",
     "output_type": "stream",
     "text": [
      "\n",
      "--- Tablas creadas en DuckDB ---\n",
      "          name\n",
      "0        cie10\n",
      "1   cie10grupo\n",
      "2  defunciones\n"
     ]
    }
   ],
   "source": [
    "import duckdb\n",
    "con = duckdb.connect('def20152021.duckdb')\n",
    "\n",
    "# Crear tablas en DuckDB\n",
    "# Tabla de defunciones\n",
    "con.execute(\"CREATE OR REPLACE TABLE defunciones AS SELECT * FROM df\")\n",
    "# Tabla de CIE10\n",
    "con.execute(\"CREATE OR REPLACE TABLE cie10 AS SELECT * FROM dfcie10\")\n",
    "# Tabla de CIE10 Grupos\n",
    "con.execute(\"CREATE OR REPLACE TABLE cie10grupo AS SELECT * FROM dfcie10grupo\") \n",
    "\n",
    "\n",
    "print(\"\\n--- Tablas creadas en DuckDB ---\")\n",
    "# Verificamos que las tablas existen dentro de DuckDB\n",
    "print(con.execute(\"SHOW TABLES\").fetchdf())"
   ]
  },
  {
   "cell_type": "code",
   "execution_count": 13,
   "id": "3fa73cd3",
   "metadata": {},
   "outputs": [
    {
     "name": "stdout",
     "output_type": "stream",
     "text": [
      "--- Tabla defunciones ---\n",
      "              column_name column_type null   key default extra\n",
      "0                  region     VARCHAR  YES  None    None  None\n",
      "1            jurisdiccion     VARCHAR  YES  None    None  None\n",
      "2                 mes_def      BIGINT  YES  None    None  None\n",
      "3                anio_def      BIGINT  YES  None    None  None\n",
      "4             sexo_nombre     VARCHAR  YES  None    None  None\n",
      "5            grupo_etario     VARCHAR  YES  None    None  None\n",
      "6  cod_causa_muerte_CIE10     VARCHAR  YES  None    None  None\n",
      "7                cantidad      BIGINT  YES  None    None  None\n",
      "     region         jurisdiccion  mes_def  anio_def sexo_nombre  \\\n",
      "0  7.Cuyo2.  99.no identificado.        4      2021   masculino   \n",
      "1  7.Cuyo2.  99.no identificado.        3      2021   masculino   \n",
      "2  7.Cuyo2.  99.no identificado.        6      2021   masculino   \n",
      "3  7.Cuyo2.  99.no identificado.        3      2021   masculino   \n",
      "4  7.Cuyo2.  99.no identificado.        7      2021   masculino   \n",
      "\n",
      "            grupo_etario cod_causa_muerte_CIE10  cantidad  \n",
      "0  07. de 80 anios y mas                    I11         1  \n",
      "1  07. de 80 anios y mas                    I11         1  \n",
      "2    03.de 40 a 49 anios                    I12         1  \n",
      "3  07. de 80 anios y mas                    I12         1  \n",
      "4  07. de 80 anios y mas                    I12         1  \n"
     ]
    }
   ],
   "source": [
    "print(\"--- Tabla defunciones ---\")\n",
    "print(con.execute(\"DESCRIBE defunciones\").fetchdf())\n",
    "print(con.execute(\"select * from defunciones limit 5\").fetchdf())"
   ]
  },
  {
   "cell_type": "code",
   "execution_count": 14,
   "id": "693a99e0",
   "metadata": {},
   "outputs": [
    {
     "name": "stdout",
     "output_type": "stream",
     "text": [
      "--- Tabla cie10 ---\n",
      "   column_name column_type null   key default extra\n",
      "0           id     VARCHAR  YES  None    None  None\n",
      "1  descripcion     VARCHAR  YES  None    None  None\n",
      "2        grupo     VARCHAR  YES  None    None  None\n",
      "    id                                 descripcion    grupo\n",
      "0  A00                                      Cólera  A00-B99\n",
      "1  A01             Fiebres tifoidea y paratifoidea  A00-B99\n",
      "2  A02      Otras infecciones debidas a Salmonella  A00-B99\n",
      "3  A03                                  Shigelosis  A00-B99\n",
      "4  A04  Otras infecciones intestinales bacterianas  A00-B99\n"
     ]
    }
   ],
   "source": [
    "\n",
    "print(\"--- Tabla cie10 ---\")\n",
    "print(con.execute(\"DESCRIBE cie10\").fetchdf())\n",
    "print(con.execute(\"select * from cie10 limit 5\").fetchdf())\n"
   ]
  },
  {
   "cell_type": "code",
   "execution_count": 15,
   "id": "3c755b4c",
   "metadata": {},
   "outputs": [
    {
     "name": "stdout",
     "output_type": "stream",
     "text": [
      "--- Tabla cie10grupo ---\n",
      "   column_name column_type null   key default extra\n",
      "0           id     VARCHAR  YES  None    None  None\n",
      "1  descripcion     VARCHAR  YES  None    None  None\n",
      "2     capitulo     VARCHAR  YES  None    None  None\n",
      "        id                                        descripcion\n",
      "0  A00-B99    CIERTAS ENFERMEDADES INFECCIOSAS Y PARASITARIAS\n",
      "1  C00-D48                               TUMORES (NEOPLASIAS)\n",
      "2  D50-D89  ENFERMEDADES DE LA SANGRE Y DE LOS ÓRGANOS HEM...\n",
      "3  E00-E90  ENFERMEDADES ENDOCRINAS, NUTRICIONALES Y METAB...\n",
      "4  F00-F99           TRASTORNOS MENTALES Y DEL COMPORTAMIENTO\n"
     ]
    }
   ],
   "source": [
    "print(\"--- Tabla cie10grupo ---\")\n",
    "print(con.execute(\"DESCRIBE cie10grupo\").fetchdf())\n",
    "print(con.execute(\"select id,descripcion from cie10grupo limit 5\").fetchdf())\n"
   ]
  },
  {
   "cell_type": "code",
   "execution_count": 16,
   "id": "a3f5a056",
   "metadata": {},
   "outputs": [],
   "source": [
    "con.close()"
   ]
  }
 ],
 "metadata": {
  "kernelspec": {
   "display_name": "env_dfm (3.13.7)",
   "language": "python",
   "name": "python3"
  },
  "language_info": {
   "codemirror_mode": {
    "name": "ipython",
    "version": 3
   },
   "file_extension": ".py",
   "mimetype": "text/x-python",
   "name": "python",
   "nbconvert_exporter": "python",
   "pygments_lexer": "ipython3",
   "version": "3.13.7"
  }
 },
 "nbformat": 4,
 "nbformat_minor": 5
}
